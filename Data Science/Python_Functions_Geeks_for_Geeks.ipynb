{
  "nbformat": 4,
  "nbformat_minor": 0,
  "metadata": {
    "colab": {
      "provenance": []
    },
    "kernelspec": {
      "name": "python3",
      "display_name": "Python 3"
    },
    "language_info": {
      "name": "python"
    }
  },
  "cells": [
    {
      "cell_type": "code",
      "execution_count": 1,
      "metadata": {
        "id": "Ii_sT7qeUKyL"
      },
      "outputs": [],
      "source": [
        "#creating a function\n",
        "def fun():\n",
        "  print(\"Welcome to GFG\")"
      ]
    },
    {
      "cell_type": "code",
      "source": [
        "#calling a function\n",
        "fun()"
      ],
      "metadata": {
        "colab": {
          "base_uri": "https://localhost:8080/"
        },
        "id": "CLwm8hT_gGlQ",
        "outputId": "c654959a-43d1-4204-f888-63b5d3835529"
      },
      "execution_count": 2,
      "outputs": [
        {
          "output_type": "stream",
          "name": "stdout",
          "text": [
            "Welcome to GFG\n"
          ]
        }
      ]
    },
    {
      "cell_type": "markdown",
      "source": [
        "##Function Arguments\n",
        "Arguments are the values passed inside the parenthesis of the function. A function can have any number of arguments separated by a comma."
      ],
      "metadata": {
        "id": "vbJQM9UJgOUl"
      }
    },
    {
      "cell_type": "code",
      "source": [
        "def evenOdd(x):\n",
        "  if (x%2) == 0:\n",
        "    return \"Even\"\n",
        "  else:\n",
        "    return \"Odd\"\n",
        "print(evenOdd(16))\n",
        "print(evenOdd(7))"
      ],
      "metadata": {
        "colab": {
          "base_uri": "https://localhost:8080/"
        },
        "id": "L8S6eAxBgLF1",
        "outputId": "edee0e71-c97a-4c5a-89a5-801566a30024"
      },
      "execution_count": 3,
      "outputs": [
        {
          "output_type": "stream",
          "name": "stdout",
          "text": [
            "Even\n",
            "Odd\n"
          ]
        }
      ]
    },
    {
      "cell_type": "markdown",
      "source": [
        "##Types of Function Arguments\n",
        "\n",
        "1. Default Arguements\n",
        "2. Keyword Arguements\n",
        "3. Positional Arguements\n",
        "4. Arbitary Arguements\n"
      ],
      "metadata": {
        "id": "ruJ5CegIkL4T"
      }
    },
    {
      "cell_type": "markdown",
      "source": [
        "A default argument is a parameter that assumes a default value if a value is not provided in the function call for that argument."
      ],
      "metadata": {
        "id": "QdZJ76HKvBQq"
      }
    },
    {
      "cell_type": "code",
      "source": [
        "#Default Arguement\n",
        "def myFun(x, y = 50):\n",
        "  print(\"x: \", x)\n",
        "  print(\"y: \", y)\n",
        "myFun(0)"
      ],
      "metadata": {
        "colab": {
          "base_uri": "https://localhost:8080/"
        },
        "id": "wA1SAAKRgK-g",
        "outputId": "30e25a43-601a-4012-818d-37f07b2487de"
      },
      "execution_count": 4,
      "outputs": [
        {
          "output_type": "stream",
          "name": "stdout",
          "text": [
            "x:  0\n",
            "y:  50\n"
          ]
        }
      ]
    },
    {
      "cell_type": "markdown",
      "source": [
        "In keyword arguments, values are passed by explicitly specifying the parameter names, so the order doesn’t matter."
      ],
      "metadata": {
        "id": "lsI_OtETyrzH"
      }
    },
    {
      "cell_type": "code",
      "source": [
        "#Keyword Arguement\n",
        "def student(fname, lname):\n",
        "  print(fname, lname)\n",
        "student(fname = 'Geeks', lname = 'Practice')\n",
        "student(lname = 'Practice', fname = 'Geeks')"
      ],
      "metadata": {
        "colab": {
          "base_uri": "https://localhost:8080/"
        },
        "id": "FIGawegOgK7I",
        "outputId": "a82ee937-ca3c-40dc-8ea1-e4fe974c8020"
      },
      "execution_count": 5,
      "outputs": [
        {
          "output_type": "stream",
          "name": "stdout",
          "text": [
            "Geeks Practice\n",
            "Geeks Practice\n"
          ]
        }
      ]
    },
    {
      "cell_type": "markdown",
      "source": [
        "In positional arguments, values are assigned to parameters based on their order in the function call."
      ],
      "metadata": {
        "id": "lx1RD58jyuW4"
      }
    },
    {
      "cell_type": "code",
      "source": [
        "#Positional Arguement\n",
        "def nameAge(name, age):\n",
        "  print(\"Hi I am\", name)\n",
        "  print(\"My age is\", age)\n",
        "\n",
        "print(\"Case-1:\")\n",
        "nameAge(\"Suraj\", 27)\n",
        "\n",
        "print(\"\")\n",
        "\n",
        "print(\"Case-2:\")\n",
        "nameAge(27, \"Suraj\")"
      ],
      "metadata": {
        "colab": {
          "base_uri": "https://localhost:8080/"
        },
        "id": "RD0cy6Q5gK4y",
        "outputId": "5fc01414-3ffd-42ff-b9f5-f33e9afe810b"
      },
      "execution_count": 6,
      "outputs": [
        {
          "output_type": "stream",
          "name": "stdout",
          "text": [
            "Case-1:\n",
            "Hi I am Suraj\n",
            "My age is 27\n",
            "\n",
            "Case-2:\n",
            "Hi I am 27\n",
            "My age is Suraj\n"
          ]
        }
      ]
    },
    {
      "cell_type": "markdown",
      "source": [
        "In Python Arbitrary Keyword\n",
        "Arguments,\n",
        "\n",
        "*args and **kwargs can pass a variable number of arguments to a function using special symbols. There are two special symbols:\n",
        "\n",
        "1. *args in Python (Non-Keyword Arguments)\n",
        "2. **kwargs in Python (Keyword Arguments)\n",
        "\n",
        "This code separately shows non-keyword (*args) and keyword (**kwargs) arguments in the same function.\n"
      ],
      "metadata": {
        "id": "3M6DttZCzfUG"
      }
    },
    {
      "cell_type": "code",
      "source": [
        "#Arbitary Functions\n",
        "def myFun(*args, **kwargs):\n",
        "  print(\"Non Keyword Arguements (*args): \")\n",
        "  for arg in args:\n",
        "    print(arg)\n",
        "\n",
        "  print(\"\\nKeyword Arguements (**kwargs): \")\n",
        "  for key, value in kwargs.items():\n",
        "    print(f\"{key} == {value}\")\n",
        "\n",
        "#function call with both types of arguements\n",
        "myFun('Hey', 'Welcome', first = 'Geeks', mid = 'for', last = 'Geeks')"
      ],
      "metadata": {
        "id": "ujpQonWzgK2Q",
        "colab": {
          "base_uri": "https://localhost:8080/"
        },
        "outputId": "f5600b63-4dc5-43eb-e80f-ef9500f48503"
      },
      "execution_count": 7,
      "outputs": [
        {
          "output_type": "stream",
          "name": "stdout",
          "text": [
            "Non Keyword Arguements (*args): \n",
            "Hey\n",
            "Welcome\n",
            "\n",
            "Keyword Arguements (**kwargs): \n",
            "first == Geeks\n",
            "mid == for\n",
            "last == Geeks\n"
          ]
        }
      ]
    },
    {
      "cell_type": "markdown",
      "source": [
        "##Functions within Functions\n",
        "\n",
        "A function defined inside another function is called an inner function (or nested function). It can access variables from the enclosing function’s scope and is often used to keep logic protected and organized."
      ],
      "metadata": {
        "id": "7t2-0RszWrtc"
      }
    },
    {
      "cell_type": "code",
      "source": [
        "def f1():\n",
        "  s = 'i love geeksforgeeks'\n",
        "  def f2():\n",
        "    print(s)\n",
        "  f2()\n",
        "f1()"
      ],
      "metadata": {
        "id": "wHmJJhc5gKzb",
        "colab": {
          "base_uri": "https://localhost:8080/"
        },
        "outputId": "55a10270-a5af-46c0-d310-19d689a47895"
      },
      "execution_count": 11,
      "outputs": [
        {
          "output_type": "stream",
          "name": "stdout",
          "text": [
            "i love geeksforgeeks\n"
          ]
        }
      ]
    },
    {
      "cell_type": "markdown",
      "source": [
        "##Anonymous Functions\n",
        "\n",
        "In Python, an anonymous function means that a function is without a name.\n",
        "\n",
        "1. **def keyword** is used to define the normal functions\n",
        "2. **lambda keyword** is used to create anonymous functions."
      ],
      "metadata": {
        "id": "4yrwOIfnXG9Z"
      }
    },
    {
      "cell_type": "code",
      "source": [
        "#without lambda (normal)\n",
        "def cube(x):\n",
        "  return x*x*x\n",
        "\n",
        "#with lambda (anonymous)\n",
        "cube_l = lambda x: x*x*x\n",
        "\n",
        "print(cube(7))\n",
        "print(cube_l(7))"
      ],
      "metadata": {
        "colab": {
          "base_uri": "https://localhost:8080/"
        },
        "id": "P2YKrLnYXGV9",
        "outputId": "3634d5f5-3cdc-4fbd-dc22-86fa7395586a"
      },
      "execution_count": 12,
      "outputs": [
        {
          "output_type": "stream",
          "name": "stdout",
          "text": [
            "343\n",
            "343\n"
          ]
        }
      ]
    },
    {
      "cell_type": "markdown",
      "source": [
        "##Return Statement in Function\n",
        "\n",
        "The return statement ends a function and sends a value back to the caller. It can return any data type, multiple values (packed into a tuple), or None if no value is given.\n",
        "\n",
        "*return [expression]*\n",
        "\n",
        "**Parameters:** return ends the function, [expression] is the optional value to return (defaults to None)."
      ],
      "metadata": {
        "id": "vFy5EidUX9wP"
      }
    },
    {
      "cell_type": "code",
      "source": [
        "def squared_value(n):\n",
        "  return n**2\n",
        "\n",
        "print(squared_value(2))\n",
        "print(squared_value(-4))"
      ],
      "metadata": {
        "colab": {
          "base_uri": "https://localhost:8080/"
        },
        "id": "2lxhAaVsXGNz",
        "outputId": "0fd6d238-8917-46b5-d05d-1fc2cce37de0"
      },
      "execution_count": 14,
      "outputs": [
        {
          "output_type": "stream",
          "name": "stdout",
          "text": [
            "4\n",
            "16\n"
          ]
        }
      ]
    },
    {
      "cell_type": "markdown",
      "source": [
        "##Pass by Reference and Pass by Value\n",
        "\n",
        "In Python, variables are references to objects. When we pass them to a function, the behavior depends on whether the object is mutable (like lists, dictionaries) or immutable (like integers, strings, tuples).\n",
        "\n",
        "\n",
        "\n",
        "*   **Mutable objects:** Changes inside the function affect the original object.\n",
        "\n",
        "*   **Immutable objects:** The original value remains unchanged.\n",
        "\n"
      ],
      "metadata": {
        "id": "71y0r1xcYajI"
      }
    },
    {
      "cell_type": "code",
      "source": [
        "#function to modify the first element of a list\n",
        "def myFun(x):\n",
        "  x[0] = 20\n",
        "\n",
        "list = [10,20,30,40,50]\n",
        "myFun(list)\n",
        "print(list)"
      ],
      "metadata": {
        "colab": {
          "base_uri": "https://localhost:8080/"
        },
        "id": "t81oVHsyXGKV",
        "outputId": "ba4ce37e-6dad-4a83-c6cc-cbae9ef59cab"
      },
      "execution_count": 15,
      "outputs": [
        {
          "output_type": "stream",
          "name": "stdout",
          "text": [
            "[20, 20, 30, 40, 50]\n"
          ]
        }
      ]
    },
    {
      "cell_type": "code",
      "source": [
        "#function tries to modify an integer\n",
        "def myFun2(x):\n",
        "  x = 20\n",
        "\n",
        "a = 10\n",
        "myFun(a)\n",
        "print(a)"
      ],
      "metadata": {
        "colab": {
          "base_uri": "https://localhost:8080/",
          "height": 315
        },
        "id": "qKk6EI-kXGIE",
        "outputId": "09d69496-af63-4f77-d42d-f22ec064be05"
      },
      "execution_count": 16,
      "outputs": [
        {
          "output_type": "error",
          "ename": "TypeError",
          "evalue": "'int' object does not support item assignment",
          "traceback": [
            "\u001b[0;31m---------------------------------------------------------------------------\u001b[0m",
            "\u001b[0;31mTypeError\u001b[0m                                 Traceback (most recent call last)",
            "\u001b[0;32m/tmp/ipython-input-3349938109.py\u001b[0m in \u001b[0;36m<cell line: 0>\u001b[0;34m()\u001b[0m\n\u001b[1;32m      4\u001b[0m \u001b[0;34m\u001b[0m\u001b[0m\n\u001b[1;32m      5\u001b[0m \u001b[0ma\u001b[0m \u001b[0;34m=\u001b[0m \u001b[0;36m10\u001b[0m\u001b[0;34m\u001b[0m\u001b[0;34m\u001b[0m\u001b[0m\n\u001b[0;32m----> 6\u001b[0;31m \u001b[0mmyFun\u001b[0m\u001b[0;34m(\u001b[0m\u001b[0ma\u001b[0m\u001b[0;34m)\u001b[0m\u001b[0;34m\u001b[0m\u001b[0;34m\u001b[0m\u001b[0m\n\u001b[0m\u001b[1;32m      7\u001b[0m \u001b[0mprint\u001b[0m\u001b[0;34m(\u001b[0m\u001b[0ma\u001b[0m\u001b[0;34m)\u001b[0m\u001b[0;34m\u001b[0m\u001b[0;34m\u001b[0m\u001b[0m\n",
            "\u001b[0;32m/tmp/ipython-input-3692526515.py\u001b[0m in \u001b[0;36mmyFun\u001b[0;34m(x)\u001b[0m\n\u001b[1;32m      1\u001b[0m \u001b[0;31m#function to modify the first element of a list\u001b[0m\u001b[0;34m\u001b[0m\u001b[0;34m\u001b[0m\u001b[0m\n\u001b[1;32m      2\u001b[0m \u001b[0;32mdef\u001b[0m \u001b[0mmyFun\u001b[0m\u001b[0;34m(\u001b[0m\u001b[0mx\u001b[0m\u001b[0;34m)\u001b[0m\u001b[0;34m:\u001b[0m\u001b[0;34m\u001b[0m\u001b[0;34m\u001b[0m\u001b[0m\n\u001b[0;32m----> 3\u001b[0;31m   \u001b[0mx\u001b[0m\u001b[0;34m[\u001b[0m\u001b[0;36m0\u001b[0m\u001b[0;34m]\u001b[0m \u001b[0;34m=\u001b[0m \u001b[0;36m20\u001b[0m\u001b[0;34m\u001b[0m\u001b[0;34m\u001b[0m\u001b[0m\n\u001b[0m\u001b[1;32m      4\u001b[0m \u001b[0;34m\u001b[0m\u001b[0m\n\u001b[1;32m      5\u001b[0m \u001b[0mlist\u001b[0m \u001b[0;34m=\u001b[0m \u001b[0;34m[\u001b[0m\u001b[0;36m10\u001b[0m\u001b[0;34m,\u001b[0m\u001b[0;36m20\u001b[0m\u001b[0;34m,\u001b[0m\u001b[0;36m30\u001b[0m\u001b[0;34m,\u001b[0m\u001b[0;36m40\u001b[0m\u001b[0;34m,\u001b[0m\u001b[0;36m50\u001b[0m\u001b[0;34m]\u001b[0m\u001b[0;34m\u001b[0m\u001b[0;34m\u001b[0m\u001b[0m\n",
            "\u001b[0;31mTypeError\u001b[0m: 'int' object does not support item assignment"
          ]
        }
      ]
    },
    {
      "cell_type": "markdown",
      "source": [
        "**Note:** *Technically, Python uses \"pass-by-object-reference\". Mutable objects behave like pass by reference, while immutable objects behave like pass by value*"
      ],
      "metadata": {
        "id": "4yATLe2zZYbF"
      }
    },
    {
      "cell_type": "markdown",
      "source": [
        "##Recursive Functions\n",
        "\n",
        "A recursive function is a function that calls itself to solve a problem. It is commonly used in mathematical and divide-and-conquer problems.\n",
        "\n",
        "Always include a base case to avoid infinite recursion."
      ],
      "metadata": {
        "id": "on5cj9VwZhIs"
      }
    },
    {
      "cell_type": "code",
      "source": [
        "def factorial(n):\n",
        "  if n == 0:\n",
        "    return 1\n",
        "  else:\n",
        "    return n*factorial(n-1)\n",
        "print(factorial(4))"
      ],
      "metadata": {
        "colab": {
          "base_uri": "https://localhost:8080/"
        },
        "id": "cyoEkAn-XGFr",
        "outputId": "5f8cf529-85ba-40af-8c5c-f604a2685ac5"
      },
      "execution_count": 17,
      "outputs": [
        {
          "output_type": "stream",
          "name": "stdout",
          "text": [
            "24\n"
          ]
        }
      ]
    },
    {
      "cell_type": "markdown",
      "source": [
        "##Python Built-in Functions List\n",
        "\n",
        "1. Python abs() Function\n",
        "\n",
        "Return the absolute value of a number\n",
        "\n",
        "2. Python aiter() Function\n",
        "\n",
        "It takes an asynchronous iterable as an argument and returns an asynchronous iterator for that iterable\n",
        "\n",
        "3. Python all() Function\n",
        "\n",
        "Return true if all the elements of a given iterable( List, Dictionary, Tuple, set, etc) are True else it returns False\n",
        "\n",
        "4. Python any() Function\n",
        "\n",
        " Returns true if any of the elements of a given iterable( List, Dictionary, Tuple, set, etc) are True else it returns False\n",
        "\n",
        "5. Python anext() Function\n",
        "\n",
        "used for getting the next item from an asynchronous iterator\n",
        "\n",
        "6. Python ascii() Function\n",
        "\n",
        "Returns a string containing a printable representation of an object\n",
        "\n",
        "7. Python bin() Function\n",
        "\n",
        "Convert integer to a binary string\n",
        "\n",
        "8. Python bool() Function\n",
        "\n",
        "Return or convert a value to a Boolean value i.e., True or False\n",
        "\n",
        "9. Python breakpoint() Function\n",
        "\n",
        "It is used for dropping into the debugger at the call site during runtime for debugging purposes\n",
        "\n",
        "10. Python bytearray() Function\n",
        "\n",
        "Returns a byte array object which is an array of given bytes\n",
        "\n",
        "11. Python bytes() Function\n",
        "\n",
        "Converts an object to an immutable byte-represented object of a given size and data\n",
        "\n",
        "12. Python callable() Function\n",
        "\n",
        "Returns True if the object passed appears to be callable\n",
        "\n",
        "13. Python chr() Function\n",
        "\n",
        "Returns a string representing a character whose Unicode code point is an integer\n",
        "\n",
        "14. Python classmethod() Function\n",
        "\n",
        "Returns a class method for a given function\n",
        "\n",
        "15. Python compile() Function\n",
        "\n",
        "Returns a Python code object\n",
        "\n",
        "16. Python complex() Function\n",
        "\n",
        "Creates Complex Number\n",
        "\n",
        "17. Python delattr() Function\n",
        "\n",
        "Delete the named attribute from the object\n",
        "\n",
        "18. Python dict() Function\n",
        "\n",
        "Creates a Python Dictionary\n",
        "\n",
        "19. Python dir() Function\n",
        "\n",
        "Returns a list of the attributes and methods of any object\n",
        "\n",
        "20. Python divmod() Function\n",
        "\n",
        "Takes two numbers and returns a pair of numbers consisting of their quotient and remainder\n",
        "\n",
        "21. Python enumerate() Function\n",
        "\n",
        "Adds a counter to an iterable and returns it in a form of enumerating object\n",
        "\n",
        "22. Python eval() Function\n",
        "\n",
        "Parses the expression passed to it and runs Python expression(code) within the program\n",
        "\n",
        "23. Python exec() Function\n",
        "\n",
        "Used for the dynamic execution of the program\n",
        "\n",
        "24. Python filter() Function\n",
        "\n",
        "Filters the given sequence with the help of a function that tests each element in the sequence to be true or not\n",
        "\n",
        "25. Python float() Function\n",
        "\n",
        "Return a floating-point number from a number or a string\n",
        "\n",
        "26. Python format() Function\n",
        "\n",
        "Formats a specified value\n",
        "\n",
        "27. Python frozenset() Function\n",
        "\n",
        "Returns immutable frozenset\n",
        "\n",
        "28. Python getattr() Function\n",
        "\n",
        "Access the attribute value of an object\n",
        "\n",
        "29. Python globals() Function\n",
        "\n",
        "Returns the dictionary of the current global symbol table\n",
        "\n",
        "30. Python hasattr() Function\n",
        "\n",
        "Check if an object has the given named attribute and return true if present\n",
        "\n",
        "31. Python hash() Function\n",
        "\n",
        "Encode the data into an unrecognizable value\n",
        "\n",
        "32. Python help() Function\n",
        "\n",
        "Display the documentation of modules, functions, classes, keywords, etc\n",
        "\n",
        "33. Python hex() Function\n",
        "\n",
        "Convert an integer number into its corresponding hexadecimal form\n",
        "\n",
        "34. Python id() Function\n",
        "\n",
        "Return the identity of an object\n",
        "\n",
        "35. Python input() Function\n",
        "\n",
        "Take input from the user as a string\n",
        "\n",
        "36. Python int() Function\n",
        "\n",
        "Converts a number in a given base to decimal\n",
        "\n",
        "37. Python isinstance() Function\n",
        "\n",
        "Checks if the objects belong to a certain class or not\n",
        "\n",
        "38. Python issubclass() Function\n",
        "\n",
        "Check if a class is a subclass of another class or not\n",
        "\n",
        "39. Python iter() Function\n",
        "\n",
        "Convert an iterable to an iterator\n",
        "\n",
        "40. Python len() Function\n",
        "\n",
        "Returns the length of the object\n",
        "\n",
        "41. Python list() Function\n",
        "\n",
        "Creates a list in Python\n",
        "\n",
        "42. Python locals() Function\n",
        "\n",
        "Returns the dictionary of the current local symbol table\n",
        "\n",
        "43. Python map() Function\n",
        "\n",
        "Returns a map object(which is an iterator) of the results after applying the given function to each item of a given iterable\n",
        "\n",
        "44. Python max() Function\n",
        "\n",
        "Returns the largest item in an iterable or the largest of two or more arguments\n",
        "\n",
        "45. Python memoryview() Function\n",
        "\n",
        "Returns memory view of an argument\n",
        "\n",
        "46. Python min() Function\n",
        "\n",
        "Returns the smallest item in an iterable or the smallest of two or more arguments\n",
        "\n",
        "47. Python next() Function\n",
        "\n",
        "Receives the next item from the iterator\n",
        "\n",
        "48. Python object() Function\n",
        "\n",
        "Returns a new object\n",
        "\n",
        "49. Python oct() Function\n",
        "\n",
        "returns an octal representation of an integer in a string format.\n",
        "\n",
        "50. Python open() Function\n",
        "\n",
        "Open a file and return its object\n",
        "\n",
        "51. Python ord() Function\n",
        "\n",
        "Returns the Unicode equivalence of the passed argument\n",
        "\n",
        "52. Python pow() Function\n",
        "\n",
        "Compute the power of a number\n",
        "\n",
        "53. Python print() Function\n",
        "\n",
        "Print output to the console\n",
        "\n",
        "54. Python property() Function\n",
        "\n",
        "Create a property of a class\n",
        "\n",
        "55. Python range() Function\n",
        "\n",
        "Generate a sequence of numbers\n",
        "\n",
        "56. Python repr() Function\n",
        "\n",
        "Return the printable version of the object\n",
        "\n",
        "57. Python reversed() Function\n",
        "\n",
        "Returns an iterator that accesses the given sequence in the reverse order\n",
        "\n",
        "58. Python round() Function\n",
        "\n",
        "Rounds off to the given number of digits and returns the floating-point number\n",
        "\n",
        "59. Python set() Function\n",
        "\n",
        "Convert any of the iterable to a sequence of iterable elements with distinct elements\n",
        "\n",
        "60. Python setattr() Function\n",
        "\n",
        "Assign the object attribute its value\n",
        "\n",
        "61. Python slice() Function\n",
        "\n",
        "Returns a slice object\n",
        "\n",
        "62. Python sorted() Function\n",
        "\n",
        "Returns a list with the elements in a sorted manner, without modifying the original sequence\n",
        "\n",
        "63. Python staticmethod() Function\n",
        "\n",
        "Converts a message into the static message\n",
        "\n",
        "64. Python str() Function\n",
        "\n",
        "Returns the string version of the object\n",
        "\n",
        "65. Python sum() Function\n",
        "\n",
        "Sums up the numbers in the list\n",
        "\n",
        "66. Python super() Function\n",
        "\n",
        "Returns a temporary object of the superclass\n",
        "\n",
        "67. Python tuple() Function\n",
        "\n",
        "Creates a tuple in Python\n",
        "\n",
        "68. Python type() Function\n",
        "\n",
        "Returns the type of the object\n",
        "\n",
        "69. Python vars() Function\n",
        "\n",
        "Returns the __dict__ attribute for a module, class, instance, or any other object\n",
        "\n",
        "70. Python zip() Function\n",
        "\n",
        "Maps the similar index of multiple containers\n",
        "\n",
        "71. Python __import__() Function\n",
        "\n",
        "Imports the module during runtime"
      ],
      "metadata": {
        "id": "5DLeaMnAaAbP"
      }
    },
    {
      "cell_type": "markdown",
      "source": [
        "##Pass Statement\n",
        "\n",
        "The pass statement in Python is a placeholder that does nothing when executed.\n",
        "\n",
        "It is used to keep code blocks valid where a statement is required but no logic is needed yet.\n",
        "\n",
        "Examples situations where pass is used are empty functions, classes, loops or conditional blocks"
      ],
      "metadata": {
        "id": "Cs9yAT33cEhs"
      }
    },
    {
      "cell_type": "code",
      "source": [
        "def fun():\n",
        "  pass\n",
        "\n",
        "fun()"
      ],
      "metadata": {
        "id": "KOb4uzWXXGDa"
      },
      "execution_count": 18,
      "outputs": []
    },
    {
      "cell_type": "code",
      "source": [
        "x = 10\n",
        "if x>5:\n",
        "  pass\n",
        "else:\n",
        "  print(\"x<5\")"
      ],
      "metadata": {
        "id": "M8MsXqatXGBI"
      },
      "execution_count": 19,
      "outputs": []
    },
    {
      "cell_type": "code",
      "source": [
        "for i in range(5):\n",
        "  if i == 3:\n",
        "    pass\n",
        "  else:\n",
        "    print(i)"
      ],
      "metadata": {
        "colab": {
          "base_uri": "https://localhost:8080/"
        },
        "id": "P-B2h7t-XF-3",
        "outputId": "5539f1e0-ca7c-4186-dc58-62fdc3248db0"
      },
      "execution_count": 20,
      "outputs": [
        {
          "output_type": "stream",
          "name": "stdout",
          "text": [
            "0\n",
            "1\n",
            "2\n",
            "4\n"
          ]
        }
      ]
    },
    {
      "cell_type": "code",
      "source": [
        "class EmptyClass:\n",
        "  pass\n",
        "\n",
        "class Person:\n",
        "  def __init__(self, name, age):\n",
        "    self.name = name\n",
        "    self.age = age\n",
        "\n",
        "  def greet(self):\n",
        "    pass\n",
        "\n",
        "p = Person(\"Emily\", 30)"
      ],
      "metadata": {
        "id": "KixiOlv2clON"
      },
      "execution_count": null,
      "outputs": []
    },
    {
      "cell_type": "markdown",
      "source": [
        "##Global and Local Variables in Python"
      ],
      "metadata": {
        "id": "FkBKDJovnd90"
      }
    },
    {
      "cell_type": "markdown",
      "source": [
        "##Local Variables\n",
        "\n",
        "Local variables are created inside a function and exist only during its execution. They cannot be accessed from outside the function."
      ],
      "metadata": {
        "id": "LjA6_S1AngLC"
      }
    },
    {
      "cell_type": "code",
      "source": [
        "def greet():\n",
        "  msg = \"Hello from inside the function!\"\n",
        "  print(msg)\n",
        "\n",
        "greet()"
      ],
      "metadata": {
        "colab": {
          "base_uri": "https://localhost:8080/"
        },
        "id": "4v5ia7ogclK0",
        "outputId": "39982510-6d66-4b25-bcd0-7bd0dc10ad7f"
      },
      "execution_count": 21,
      "outputs": [
        {
          "output_type": "stream",
          "name": "stdout",
          "text": [
            "Hello from inside the function!\n"
          ]
        }
      ]
    },
    {
      "cell_type": "code",
      "source": [
        "def greet():\n",
        "  msg = \"Hello\" #msg is local variable inside function and can only be accessed here\n",
        "  print(\"Inside function: \", msg)\n",
        "\n",
        "greet()\n",
        "print(\"Outside function: \", msg) #therefore calling msg outside function casues error"
      ],
      "metadata": {
        "colab": {
          "base_uri": "https://localhost:8080/",
          "height": 211
        },
        "id": "gnzcCf57clIF",
        "outputId": "aa23503b-de50-4598-d15c-28bbf25fe868"
      },
      "execution_count": 22,
      "outputs": [
        {
          "output_type": "stream",
          "name": "stdout",
          "text": [
            "Inside function:  Hello\n"
          ]
        },
        {
          "output_type": "error",
          "ename": "NameError",
          "evalue": "name 'msg' is not defined",
          "traceback": [
            "\u001b[0;31m---------------------------------------------------------------------------\u001b[0m",
            "\u001b[0;31mNameError\u001b[0m                                 Traceback (most recent call last)",
            "\u001b[0;32m/tmp/ipython-input-309633332.py\u001b[0m in \u001b[0;36m<cell line: 0>\u001b[0;34m()\u001b[0m\n\u001b[1;32m      4\u001b[0m \u001b[0;34m\u001b[0m\u001b[0m\n\u001b[1;32m      5\u001b[0m \u001b[0mgreet\u001b[0m\u001b[0;34m(\u001b[0m\u001b[0;34m)\u001b[0m\u001b[0;34m\u001b[0m\u001b[0;34m\u001b[0m\u001b[0m\n\u001b[0;32m----> 6\u001b[0;31m \u001b[0mprint\u001b[0m\u001b[0;34m(\u001b[0m\u001b[0;34m\"Outside function: \"\u001b[0m\u001b[0;34m,\u001b[0m \u001b[0mmsg\u001b[0m\u001b[0;34m)\u001b[0m \u001b[0;31m#therefore calling msg outside function casues error\u001b[0m\u001b[0;34m\u001b[0m\u001b[0;34m\u001b[0m\u001b[0m\n\u001b[0m",
            "\u001b[0;31mNameError\u001b[0m: name 'msg' is not defined"
          ]
        }
      ]
    },
    {
      "cell_type": "markdown",
      "source": [
        "##Global Variables\n",
        "Global variables are declared outside all functions and can be accessed anywhere in the program, including inside functions.\n"
      ],
      "metadata": {
        "id": "Fl3qN4eCoKw2"
      }
    },
    {
      "cell_type": "code",
      "source": [
        "msg = \"I am Awesome!\" #global variable declared outside function\n",
        "\n",
        "def display():\n",
        "  print(\"Inside Function: \", msg)\n",
        "\n",
        "display()\n",
        "print(\"Outside function: \", msg)"
      ],
      "metadata": {
        "colab": {
          "base_uri": "https://localhost:8080/"
        },
        "id": "UicVsbIXclFs",
        "outputId": "f050fde9-750a-454a-a71b-b17cba600171"
      },
      "execution_count": 23,
      "outputs": [
        {
          "output_type": "stream",
          "name": "stdout",
          "text": [
            "Inside Function:  I am Awesome!\n",
            "Outside function:  I am Awesome!\n"
          ]
        }
      ]
    },
    {
      "cell_type": "markdown",
      "source": [
        "##Use of Local and Global variables\n",
        "If a variable is defined both globally and locally with the same name, the local variable shadows the global variable inside the function. Changes to the local variable do not affect the global variable unless you explicitly declare the variable as global."
      ],
      "metadata": {
        "id": "YNT00L0CojZd"
      }
    },
    {
      "cell_type": "code",
      "source": [
        "def fun():\n",
        "    s = \"Me too.\"\n",
        "    print(s)\n",
        "\n",
        "s = \"I love Geeksforgeeks\"\n",
        "fun()\n",
        "print(s)"
      ],
      "metadata": {
        "colab": {
          "base_uri": "https://localhost:8080/"
        },
        "id": "c2cxQHgaclDR",
        "outputId": "08a6d0de-4688-4be7-9135-3b3cd802a241"
      },
      "execution_count": 24,
      "outputs": [
        {
          "output_type": "stream",
          "name": "stdout",
          "text": [
            "Me too.\n",
            "I love Geeksforgeeks\n"
          ]
        }
      ]
    },
    {
      "cell_type": "markdown",
      "source": [
        "##Modifying Global Variables Inside a Function"
      ],
      "metadata": {
        "id": "DnZESKusozmK"
      }
    },
    {
      "cell_type": "code",
      "source": [
        "#Without global (causes error)\n",
        "\n",
        "def fun():\n",
        "    s += ' GFG'   # Error: Python thinks s is local\n",
        "    print(s)\n",
        "\n",
        "s = \"I love GeeksforGeeks\"\n",
        "fun()\n"
      ],
      "metadata": {
        "colab": {
          "base_uri": "https://localhost:8080/",
          "height": 315
        },
        "id": "yeh6uYnWclBD",
        "outputId": "674cb36c-522c-4355-991a-c03575b53f20"
      },
      "execution_count": 25,
      "outputs": [
        {
          "output_type": "error",
          "ename": "UnboundLocalError",
          "evalue": "cannot access local variable 's' where it is not associated with a value",
          "traceback": [
            "\u001b[0;31m---------------------------------------------------------------------------\u001b[0m",
            "\u001b[0;31mUnboundLocalError\u001b[0m                         Traceback (most recent call last)",
            "\u001b[0;32m/tmp/ipython-input-1717329180.py\u001b[0m in \u001b[0;36m<cell line: 0>\u001b[0;34m()\u001b[0m\n\u001b[1;32m      6\u001b[0m \u001b[0;34m\u001b[0m\u001b[0m\n\u001b[1;32m      7\u001b[0m \u001b[0ms\u001b[0m \u001b[0;34m=\u001b[0m \u001b[0;34m\"I love GeeksforGeeks\"\u001b[0m\u001b[0;34m\u001b[0m\u001b[0;34m\u001b[0m\u001b[0m\n\u001b[0;32m----> 8\u001b[0;31m \u001b[0mfun\u001b[0m\u001b[0;34m(\u001b[0m\u001b[0;34m)\u001b[0m\u001b[0;34m\u001b[0m\u001b[0;34m\u001b[0m\u001b[0m\n\u001b[0m",
            "\u001b[0;32m/tmp/ipython-input-1717329180.py\u001b[0m in \u001b[0;36mfun\u001b[0;34m()\u001b[0m\n\u001b[1;32m      2\u001b[0m \u001b[0;34m\u001b[0m\u001b[0m\n\u001b[1;32m      3\u001b[0m \u001b[0;32mdef\u001b[0m \u001b[0mfun\u001b[0m\u001b[0;34m(\u001b[0m\u001b[0;34m)\u001b[0m\u001b[0;34m:\u001b[0m\u001b[0;34m\u001b[0m\u001b[0;34m\u001b[0m\u001b[0m\n\u001b[0;32m----> 4\u001b[0;31m     \u001b[0ms\u001b[0m \u001b[0;34m+=\u001b[0m \u001b[0;34m' GFG'\u001b[0m   \u001b[0;31m# Error: Python thinks s is local\u001b[0m\u001b[0;34m\u001b[0m\u001b[0;34m\u001b[0m\u001b[0m\n\u001b[0m\u001b[1;32m      5\u001b[0m     \u001b[0mprint\u001b[0m\u001b[0;34m(\u001b[0m\u001b[0ms\u001b[0m\u001b[0;34m)\u001b[0m\u001b[0;34m\u001b[0m\u001b[0;34m\u001b[0m\u001b[0m\n\u001b[1;32m      6\u001b[0m \u001b[0;34m\u001b[0m\u001b[0m\n",
            "\u001b[0;31mUnboundLocalError\u001b[0m: cannot access local variable 's' where it is not associated with a value"
          ]
        }
      ]
    },
    {
      "cell_type": "code",
      "source": [
        "#With global (works correctly)\n",
        "\n",
        "s = \"Python is great!\"\n",
        "\n",
        "def fun():\n",
        "    global s\n",
        "    s += \" GFG\"   # Modify global variable\n",
        "    print(s)\n",
        "    s = \"Look for GeeksforGeeks Python Section\"  # Reassign global\n",
        "    print(s)\n",
        "\n",
        "fun()\n",
        "print(s)"
      ],
      "metadata": {
        "colab": {
          "base_uri": "https://localhost:8080/"
        },
        "id": "V7Bjdv3nck-r",
        "outputId": "b31d2278-d60f-40fb-b8f5-bda2bd1a523e"
      },
      "execution_count": 26,
      "outputs": [
        {
          "output_type": "stream",
          "name": "stdout",
          "text": [
            "Python is great! GFG\n",
            "Look for GeeksforGeeks Python Section\n",
            "Look for GeeksforGeeks Python Section\n"
          ]
        }
      ]
    },
    {
      "cell_type": "code",
      "source": [
        "#Global vs Local with Same Name\n",
        "\n",
        "a = 1  # Global variable\n",
        "\n",
        "def f():\n",
        "    print(\"f():\", a)  # Uses global a\n",
        "\n",
        "def g():\n",
        "    a = 2  # Local shadows global\n",
        "    print(\"g():\", a)\n",
        "\n",
        "def h():\n",
        "    global a\n",
        "    a = 3  # Modifies global a\n",
        "    print(\"h():\", a)\n",
        "\n",
        "print(\"global:\", a)\n",
        "f()\n",
        "print(\"global:\", a)\n",
        "g()\n",
        "print(\"global:\", a)\n",
        "h()\n",
        "print(\"global:\", a)"
      ],
      "metadata": {
        "colab": {
          "base_uri": "https://localhost:8080/"
        },
        "id": "jcfmi0GCck8f",
        "outputId": "4736aa65-e7fa-477d-d624-169033e3c958"
      },
      "execution_count": 27,
      "outputs": [
        {
          "output_type": "stream",
          "name": "stdout",
          "text": [
            "global: 1\n",
            "f(): 1\n",
            "global: 1\n",
            "g(): 2\n",
            "global: 1\n",
            "h(): 3\n",
            "global: 3\n"
          ]
        }
      ]
    },
    {
      "cell_type": "markdown",
      "source": [
        "Explanation:\n",
        "\n",
        "f() prints global a without changing it.\n",
        "\n",
        "g() creates a local a, leaving global one untouched.\n",
        "\n",
        "h() declares a as global and modifies it."
      ],
      "metadata": {
        "id": "ChxCAbYupDy4"
      }
    },
    {
      "cell_type": "markdown",
      "source": [
        "##Local Variable vs Global Variable\n",
        "\n",
        "https://www.geeksforgeeks.org/python/global-local-variables-python/\n"
      ],
      "metadata": {
        "id": "rbs2lV8jpI8E"
      }
    },
    {
      "cell_type": "markdown",
      "source": [
        "##Recursion\n",
        "\n",
        "Recursion is a programming technique where a function calls itself either directly or indirectly to solve a problem by breaking it into smaller, simpler subproblems.\n",
        "\n",
        "A recursive function is just like any other Python function except that it calls itself in its body.\n",
        "\n",
        "```\n",
        "def recursive_function(parameters):\n",
        "    if base_case_condition:\n",
        "        return base_result\n",
        "    else:\n",
        "        return recursive_function(modified_parameters)\n",
        "```\n",
        "\n",
        "Recursive function contains two key parts:\n",
        "\n",
        "* Base Case: The stopping condition that prevents infinite recursion.\n",
        "* Recursive Case: The part of the function where it calls itself with modified parameters.\n",
        "\n"
      ],
      "metadata": {
        "id": "rvOfArAT6xKJ"
      }
    },
    {
      "cell_type": "code",
      "source": [
        "#eg1: Factorial Calculation\n",
        "\n",
        "def factorial(n):\n",
        "  if n==0:\n",
        "    return 1\n",
        "  else:\n",
        "    return n*factorial(n-1)\n",
        "print(factorial(5))"
      ],
      "metadata": {
        "colab": {
          "base_uri": "https://localhost:8080/"
        },
        "id": "Te7jg_jdck5t",
        "outputId": "f06dbf60-fc4b-46ad-b5de-f38b2fcdebae"
      },
      "execution_count": 28,
      "outputs": [
        {
          "output_type": "stream",
          "name": "stdout",
          "text": [
            "120\n"
          ]
        }
      ]
    },
    {
      "cell_type": "code",
      "source": [
        "#eg2: Fibonacci Sequence\n",
        "\n",
        "def fibonacci(n):\n",
        "  if n == 0:\n",
        "    return 0\n",
        "  elif n == 1:\n",
        "    return 1\n",
        "  else:\n",
        "    return fibonacci(n-1) + fibonacci(n-2)\n",
        "print(fibonacci(10))"
      ],
      "metadata": {
        "colab": {
          "base_uri": "https://localhost:8080/"
        },
        "id": "uUZefdnw8Dh1",
        "outputId": "533d84dd-818b-4863-de6d-6ddc9e86b3d4"
      },
      "execution_count": 29,
      "outputs": [
        {
          "output_type": "stream",
          "name": "stdout",
          "text": [
            "55\n"
          ]
        }
      ]
    },
    {
      "cell_type": "markdown",
      "source": [
        "##Types of Recursion in Python\n",
        "\n",
        "The main difference between them is related to what happens after recursive call.\n",
        "\n",
        "1. **Tail Recursion:** The recursive call is the last thing the function does, so nothing happens after it returns. Some languages can optimize this to work like a loop, saving memory.\n",
        "\n",
        "2. **Non-Tail Recursion:** The function does more work after the recursive call returns, so it can’t be optimized into a loop."
      ],
      "metadata": {
        "id": "XG-pngKO8khd"
      }
    },
    {
      "cell_type": "code",
      "source": [
        "#two versions of factorial function with an accumulator (tail-rec) and with multplication after call (non tail rec)\n",
        "def tail_fact(n, acc=1):\n",
        "  if n == 0:\n",
        "    return acc\n",
        "  else:\n",
        "    return tail_fact(n-1, acc*n)\n",
        "\n",
        "def non_tail_fact(n):\n",
        "  if n == 1:\n",
        "    return 1\n",
        "  else:\n",
        "    return non_tail_fact(n-1)*n\n",
        "\n",
        "print(tail_fact(5))\n",
        "print(non_tail_fact(5))"
      ],
      "metadata": {
        "colab": {
          "base_uri": "https://localhost:8080/"
        },
        "id": "RMPTOPBo8DeT",
        "outputId": "8e527fbe-56dd-44fd-fb02-9afb8d3037a8"
      },
      "execution_count": 30,
      "outputs": [
        {
          "output_type": "stream",
          "name": "stdout",
          "text": [
            "120\n",
            "120\n"
          ]
        }
      ]
    },
    {
      "cell_type": "markdown",
      "source": [
        "##Recursion vs Iteration\n",
        "\n",
        "**Recursion:**\n",
        "It is often more intuitive and easier to implement when the problem is naturally recursive, like tree traversals. It can lead to solutions that are easier to understand compared to iterative ones.\n",
        "\n",
        "**Iteration:**\n",
        "Iteration involves loops (for, while) to repeat the execution of a block of code. It is generally more memory-efficient as it does not involve multiple stack frames like recursion."
      ],
      "metadata": {
        "id": "FB5vSi2kA1Mp"
      }
    },
    {
      "cell_type": "markdown",
      "source": [
        "##*args and **kwargs in Python\n",
        "\n",
        "*args and **kwargs are used to allow functions to accept an arbitrary number of arguments. These features provide great flexibility when designing functions that need to handle a varying number of inputs"
      ],
      "metadata": {
        "id": "v-IbVuraBEBM"
      }
    },
    {
      "cell_type": "code",
      "source": [
        "#code shows how *args collects multiple positional arguments into a tuple\n",
        "#and how **kwargs collects keyword arguments into a dictionary.\n",
        "\n",
        "# *args example\n",
        "def fun(*args):\n",
        "    return sum(args)\n",
        "\n",
        "print(fun(5, 10, 15))\n",
        "\n",
        "# **kwargs example\n",
        "def fun(**kwargs):\n",
        "    for k, val in kwargs.items():\n",
        "        print(k, val)\n",
        "\n",
        "fun(a=1, b=2, c=3)"
      ],
      "metadata": {
        "colab": {
          "base_uri": "https://localhost:8080/"
        },
        "id": "vfMtqlLw8DbO",
        "outputId": "ded0f0cc-eca0-4bab-add6-beff489befb5"
      },
      "execution_count": 31,
      "outputs": [
        {
          "output_type": "stream",
          "name": "stdout",
          "text": [
            "30\n",
            "a 1\n",
            "b 2\n",
            "c 3\n"
          ]
        }
      ]
    },
    {
      "cell_type": "markdown",
      "source": [
        "Note: “We use the \"wildcard\" or \"*\" notation like this - *args OR **kwargs - as our function's argument when we have doubts about the number of  arguments we should pass in a function.”"
      ],
      "metadata": {
        "id": "0_60x3rHBdKw"
      }
    },
    {
      "cell_type": "code",
      "source": [
        "def myFunc(*argv): #defines a function that accepts any number of positional arguments.\n",
        "  for arg in argv: #loops through the tuple of arguments.\n",
        "    print(arg)\n",
        "myFunc('Hello', 'Welcome', 'to', 'IIT')\n"
      ],
      "metadata": {
        "colab": {
          "base_uri": "https://localhost:8080/"
        },
        "id": "afTlbnyd8DY8",
        "outputId": "799c15fe-31c5-4e26-dfec-bcee174d9b27"
      },
      "execution_count": 32,
      "outputs": [
        {
          "output_type": "stream",
          "name": "stdout",
          "text": [
            "Hello\n",
            "Welcome\n",
            "to\n",
            "IIT\n"
          ]
        }
      ]
    },
    {
      "cell_type": "code",
      "source": [
        "#we use *args to multiply any number of values.\n",
        "\n",
        "def multiply(*args): #accepts multiple numbers as input\n",
        "    result = 1 #initialize result to 1 (since we are multiplying)\n",
        "    for num in args: #loop through all no.s\n",
        "        result *= num #multiply each no. with result\n",
        "    return result\n",
        "\n",
        "print(multiply(2, 3, 4, 5, 10)) #can enter any number of values"
      ],
      "metadata": {
        "colab": {
          "base_uri": "https://localhost:8080/"
        },
        "id": "orJrpIJn8DWV",
        "outputId": "5f194cef-3354-45cf-913b-1feff80ddba2"
      },
      "execution_count": 34,
      "outputs": [
        {
          "output_type": "stream",
          "name": "stdout",
          "text": [
            "1200\n"
          ]
        }
      ]
    },
    {
      "cell_type": "markdown",
      "source": [
        "Keys = argument names\n",
        "\n",
        "Values = argument values"
      ],
      "metadata": {
        "id": "qXfMIAGVCZWf"
      }
    },
    {
      "cell_type": "code",
      "source": [
        "def fun(**kwargs):\n",
        "    for k, val in kwargs.items():\n",
        "        print(k, \"=\", val)\n",
        "\n",
        "fun(s1='Python', s2='is', s3='Awesome')"
      ],
      "metadata": {
        "colab": {
          "base_uri": "https://localhost:8080/"
        },
        "id": "IJmUk5yZ8DT0",
        "outputId": "8ca7c0a3-3d0c-436b-c69b-c2d8208ecd3b"
      },
      "execution_count": 35,
      "outputs": [
        {
          "output_type": "stream",
          "name": "stdout",
          "text": [
            "s1 = Python\n",
            "s2 = is\n",
            "s3 = Awesome\n"
          ]
        }
      ]
    },
    {
      "cell_type": "code",
      "source": [
        "#Here we use **kwargs to create a formatted string from the arguments.\n",
        "\n",
        "def introduce(**kwargs): #accepts flexible keyword arguements\n",
        "    details = []\n",
        "    for k, v in kwargs.items(): #loops through each key value pair\n",
        "        details.append(k + \": \" + str(v)) #format each pair as key: valye and add to list\n",
        "    return \", \".join(details) #join list items into a string separated by commans\n",
        "\n",
        "print(introduce(Name=\"Alice\", Age=25, City=\"New York\", Movie=\"Spiderman\"))"
      ],
      "metadata": {
        "colab": {
          "base_uri": "https://localhost:8080/"
        },
        "id": "7NWzghqR8DQw",
        "outputId": "b0672b66-abb5-4b1f-eeef-e506210256c7"
      },
      "execution_count": 38,
      "outputs": [
        {
          "output_type": "stream",
          "name": "stdout",
          "text": [
            "Name: Alice, Age: 25, City: New York, Movie: Spiderman\n"
          ]
        }
      ]
    },
    {
      "cell_type": "code",
      "source": [
        "#Using both *args and **kwargs\n",
        "\n",
        "def student_info(*args, **kwargs):\n",
        "    print(\"Subjects:\", args)        # Positional arguments\n",
        "    print(\"Details:\", kwargs)       # Keyword arguments\n",
        "\n",
        "# Passing subjects as *args and details as **kwargs\n",
        "student_info(\"Math\", \"Science\", \"English\", Name=\"Alice\", Age=20, City=\"New York\")"
      ],
      "metadata": {
        "colab": {
          "base_uri": "https://localhost:8080/"
        },
        "id": "eP0f9vVC8DOH",
        "outputId": "7bce025e-539c-46f8-814a-c4f8f6723009"
      },
      "execution_count": 39,
      "outputs": [
        {
          "output_type": "stream",
          "name": "stdout",
          "text": [
            "Subjects: ('Math', 'Science', 'English')\n",
            "Details: {'Name': 'Alice', 'Age': 20, 'City': 'New York'}\n"
          ]
        }
      ]
    },
    {
      "cell_type": "markdown",
      "source": [
        "##Why Python Uses 'Self' as Default Argument\n",
        "\n",
        "When defining methods inside a class, first parameter is always self. It is not a keyword, but a naming convention that plays a key role in Python’s object-oriented programming.\n",
        "\n",
        "The self parameter represents instance of the class itself, allowing you to access and modify its attributes and methods.\n",
        "\n",
        "##Why use Self?\n",
        "\n",
        "* **Clarity:** Following Python’s “explicit is better than implicit” rule, it makes code easier to read.\n",
        "* **Flexibility:** You can use any name (like this), but self is the standard.\n",
        "* **Consistency:** Keeps all methods uniform across classes."
      ],
      "metadata": {
        "id": "d_V-eeDIDYEy"
      }
    },
    {
      "cell_type": "code",
      "source": [
        "class Car:\n",
        "  def __init__(self, brand, model):\n",
        "    self.brand = brand #set instance attribute\n",
        "    self.model = model #set instance attribute\n",
        "\n",
        "  def display(self): #set a method called display\n",
        "    return self.brand, self.model\n",
        "\n",
        "car1 = Car(\"Toyota\", \"Corolla\")\n",
        "\n",
        "print(car1.display())"
      ],
      "metadata": {
        "colab": {
          "base_uri": "https://localhost:8080/"
        },
        "id": "2yFs2rmz8DJI",
        "outputId": "37e856bf-71c3-404f-f15e-d08a3f0f8aac"
      },
      "execution_count": 40,
      "outputs": [
        {
          "output_type": "stream",
          "name": "stdout",
          "text": [
            "('Toyota', 'Corolla')\n"
          ]
        }
      ]
    },
    {
      "cell_type": "markdown",
      "source": [
        "self in __init__ assigns values (brand and model) to the specific instance (car1).\n",
        "\n",
        "self in display refers to the same instance (car1) to access attributes.\n",
        "\n",
        "Python automatically passes car1 as the first argument to display()."
      ],
      "metadata": {
        "id": "FQcdogiyHFyA"
      }
    },
    {
      "cell_type": "code",
      "source": [
        "#Object Initialization & Method Invocation\n",
        "\n",
        "class gfg:\n",
        "  def __init__(self, topic):\n",
        "    self._topic = topic #store parameter value in instance variable\n",
        "\n",
        "  def topic(self):\n",
        "    print(\"Topic: \", self._topic)\n",
        "\n",
        "#creating an instance of gfg\n",
        "ins = gfg(\"Python\")\n",
        "\n",
        "#calling the topic method\n",
        "ins.topic()"
      ],
      "metadata": {
        "colab": {
          "base_uri": "https://localhost:8080/"
        },
        "id": "z4JLDT7U8DG1",
        "outputId": "6efcd9a8-100c-4297-d83e-e10ae95ec809"
      },
      "execution_count": 43,
      "outputs": [
        {
          "output_type": "stream",
          "name": "stdout",
          "text": [
            "Topic:  Python\n"
          ]
        }
      ]
    },
    {
      "cell_type": "code",
      "source": [
        "#area of circle\n",
        "\n",
        "class Circle:\n",
        "    def __init__(self, r):\n",
        "        self.r = r\n",
        "\n",
        "    def area(self):\n",
        "        a = 3.14 * self.r ** 2\n",
        "        return a\n",
        "\n",
        "# Creating an instance of Circle\n",
        "ins = Circle(5)\n",
        "\n",
        "# Calling the area method\n",
        "print(\"Area of the circle:\", ins.area())"
      ],
      "metadata": {
        "colab": {
          "base_uri": "https://localhost:8080/"
        },
        "id": "HhIoAyeIHvKI",
        "outputId": "db7495ae-e9bf-4e7c-f50e-61f90de687d1"
      },
      "execution_count": 44,
      "outputs": [
        {
          "output_type": "stream",
          "name": "stdout",
          "text": [
            "Area of the circle: 78.5\n"
          ]
        }
      ]
    },
    {
      "cell_type": "markdown",
      "source": [
        "##First Class functions in Python\n",
        "\n",
        "In Python, functions are treated as first-class objects. This means they can be used just like numbers, strings, or any other variable. You can:\n",
        "\n",
        "1. Assign functions to variables.\n",
        "2. Pass them as arguments to other functions.\n",
        "3. Return them from functions.\n",
        "4. Store them in data structures such as lists or dictionaries."
      ],
      "metadata": {
        "id": "uwD6xu6BH-M6"
      }
    },
    {
      "cell_type": "code",
      "source": [
        "# 1. Assigning Functions to Variables\n",
        "\n",
        "def msg(name):\n",
        "  return f\"Hello, {name}!\"\n",
        "\n",
        "f = msg\n",
        "\n",
        "print(f(\"Emma\"))"
      ],
      "metadata": {
        "colab": {
          "base_uri": "https://localhost:8080/"
        },
        "id": "eUayb4IUHvGu",
        "outputId": "fb0f7bb0-ae2a-4db1-e349-3d407849f5d8"
      },
      "execution_count": 45,
      "outputs": [
        {
          "output_type": "stream",
          "name": "stdout",
          "text": [
            "Hello, Emma!\n"
          ]
        }
      ]
    },
    {
      "cell_type": "code",
      "source": [
        "# 2. Passing Functions as Arguements\n",
        "\n",
        "def msg(name):\n",
        "  return f\"Hello, {name}\"\n",
        "\n",
        "def fun1(fun2, name):\n",
        "  return fun2(name)\n",
        "\n",
        "print(fun1(msg, \"Alex\"))"
      ],
      "metadata": {
        "colab": {
          "base_uri": "https://localhost:8080/"
        },
        "id": "REtbbZUeHvEO",
        "outputId": "63878306-23ec-438c-bfb0-d18e7d069d9a"
      },
      "execution_count": 46,
      "outputs": [
        {
          "output_type": "stream",
          "name": "stdout",
          "text": [
            "Hello, Alex\n"
          ]
        }
      ]
    },
    {
      "cell_type": "code",
      "source": [
        "# 3. Returning Functions from Other Functions\n",
        "\n",
        "def fun1(msg):\n",
        "  def fun2():\n",
        "    return f\"Message: {msg}\"\n",
        "  return fun2\n",
        "\n",
        "func = fun1(\"Hello, World!\")\n",
        "print(func())"
      ],
      "metadata": {
        "colab": {
          "base_uri": "https://localhost:8080/"
        },
        "id": "H7Cvu_YQHu_M",
        "outputId": "c00bc951-8046-431d-a540-75d7e6ac9185"
      },
      "execution_count": 47,
      "outputs": [
        {
          "output_type": "stream",
          "name": "stdout",
          "text": [
            "Message: Hello, World!\n"
          ]
        }
      ]
    },
    {
      "cell_type": "code",
      "source": [
        "# 4. Storing Functions in Data Structures\n",
        "\n",
        "def add(x, y):\n",
        "    return x + y\n",
        "\n",
        "def subtract(x, y):\n",
        "    return x - y\n",
        "\n",
        "# Storing functions in a dictionary\n",
        "d = {\n",
        "    \"add\": add,\n",
        "    \"subtract\": subtract\n",
        "}\n",
        "\n",
        "# Calling functions from the dictionary\n",
        "print(d[\"add\"](5, 3))\n",
        "print(d[\"subtract\"](5, 3))"
      ],
      "metadata": {
        "colab": {
          "base_uri": "https://localhost:8080/"
        },
        "id": "R_bDS3a4Hu87",
        "outputId": "b0547041-97e9-4031-f397-d31dc3040afe"
      },
      "execution_count": 48,
      "outputs": [
        {
          "output_type": "stream",
          "name": "stdout",
          "text": [
            "8\n",
            "2\n"
          ]
        }
      ]
    },
    {
      "cell_type": "markdown",
      "source": [
        "##Lambda Functions\n",
        "\n",
        "Lambda Functions are anonymous functions means that the function is without a name."
      ],
      "metadata": {
        "id": "T5vKQd2BNJ6G"
      }
    },
    {
      "cell_type": "code",
      "source": [
        "s1 = 'GeeksforGeeks'\n",
        "s2 = lambda func: func.upper()\n",
        "print(s2(s1))"
      ],
      "metadata": {
        "colab": {
          "base_uri": "https://localhost:8080/"
        },
        "id": "78jFXE3IHu6q",
        "outputId": "063220a2-b875-41f9-9d00-0a6ea78e30ff"
      },
      "execution_count": 49,
      "outputs": [
        {
          "output_type": "stream",
          "name": "stdout",
          "text": [
            "GEEKSFORGEEKS\n"
          ]
        }
      ]
    },
    {
      "cell_type": "code",
      "source": [
        "# usecase1: Using with condition checking\n",
        "\n",
        "n = lambda x: \"Positive\" if x > 0 else \"Negative\" if x < 0 else \"Zero\"\n",
        "print(n(5))\n",
        "print(n(-2))\n",
        "print(n(0))"
      ],
      "metadata": {
        "colab": {
          "base_uri": "https://localhost:8080/"
        },
        "id": "9Ogbfd7WNQl4",
        "outputId": "af35cfb2-dd23-4cfd-ecb5-d34caa847e66"
      },
      "execution_count": 50,
      "outputs": [
        {
          "output_type": "stream",
          "name": "stdout",
          "text": [
            "Positive\n",
            "Negative\n",
            "Zero\n"
          ]
        }
      ]
    },
    {
      "cell_type": "code",
      "source": [
        "check = lambda x: \"Even\" if x % 2 == 0 else \"Odd\"\n",
        "print(check(4))\n",
        "print(check(7))"
      ],
      "metadata": {
        "colab": {
          "base_uri": "https://localhost:8080/"
        },
        "id": "1n_SZhQKNQid",
        "outputId": "0839b6cc-012e-4ddb-89e4-a4ebe8e55c3d"
      },
      "execution_count": 51,
      "outputs": [
        {
          "output_type": "stream",
          "name": "stdout",
          "text": [
            "Even\n",
            "Odd\n"
          ]
        }
      ]
    },
    {
      "cell_type": "code",
      "source": [
        "# usecase2: Using with List Comprehension\n",
        "\n",
        "li = [lambda arg=x: arg * 10 for x in range(1,5)]\n",
        "for i in li:\n",
        "  print(i())"
      ],
      "metadata": {
        "colab": {
          "base_uri": "https://localhost:8080/"
        },
        "id": "kM9qWD5eNQgK",
        "outputId": "b1987a78-efcd-4b18-f0fb-63b63aa3e534"
      },
      "execution_count": 52,
      "outputs": [
        {
          "output_type": "stream",
          "name": "stdout",
          "text": [
            "10\n",
            "20\n",
            "30\n",
            "40\n"
          ]
        }
      ]
    },
    {
      "cell_type": "code",
      "source": [
        "# usecase3: Using for Returning Multiple Results\n",
        "\n",
        "calc = lambda x, y: (x + y, x * y)\n",
        "res = calc(3, 4)\n",
        "print(res)"
      ],
      "metadata": {
        "colab": {
          "base_uri": "https://localhost:8080/"
        },
        "id": "lE_ptIctNQd_",
        "outputId": "d98d9510-d35e-42a1-ced2-69cd512603e2"
      },
      "execution_count": 53,
      "outputs": [
        {
          "output_type": "stream",
          "name": "stdout",
          "text": [
            "(7, 12)\n"
          ]
        }
      ]
    },
    {
      "cell_type": "code",
      "source": [
        "# usecase4: Using with Filter()\n",
        "\n",
        "n = [1, 2, 3, 4, 5, 6]\n",
        "even = filter(lambda x: x % 2 == 0, n)\n",
        "print(list(even))"
      ],
      "metadata": {
        "colab": {
          "base_uri": "https://localhost:8080/",
          "height": 176
        },
        "id": "lvAHvpDANQbh",
        "outputId": "8f5ff440-f68a-4f7e-aa1b-b649c06ae39e"
      },
      "execution_count": 55,
      "outputs": [
        {
          "output_type": "error",
          "ename": "TypeError",
          "evalue": "'list' object is not callable",
          "traceback": [
            "\u001b[0;31m---------------------------------------------------------------------------\u001b[0m",
            "\u001b[0;31mTypeError\u001b[0m                                 Traceback (most recent call last)",
            "\u001b[0;32m/tmp/ipython-input-3968425333.py\u001b[0m in \u001b[0;36m<cell line: 0>\u001b[0;34m()\u001b[0m\n\u001b[1;32m      3\u001b[0m \u001b[0mn\u001b[0m \u001b[0;34m=\u001b[0m \u001b[0;34m[\u001b[0m\u001b[0;36m1\u001b[0m\u001b[0;34m,\u001b[0m \u001b[0;36m2\u001b[0m\u001b[0;34m,\u001b[0m \u001b[0;36m3\u001b[0m\u001b[0;34m,\u001b[0m \u001b[0;36m4\u001b[0m\u001b[0;34m,\u001b[0m \u001b[0;36m5\u001b[0m\u001b[0;34m,\u001b[0m \u001b[0;36m6\u001b[0m\u001b[0;34m]\u001b[0m\u001b[0;34m\u001b[0m\u001b[0;34m\u001b[0m\u001b[0m\n\u001b[1;32m      4\u001b[0m \u001b[0meven\u001b[0m \u001b[0;34m=\u001b[0m \u001b[0mfilter\u001b[0m\u001b[0;34m(\u001b[0m\u001b[0;32mlambda\u001b[0m \u001b[0mx\u001b[0m\u001b[0;34m:\u001b[0m \u001b[0mx\u001b[0m \u001b[0;34m%\u001b[0m \u001b[0;36m2\u001b[0m \u001b[0;34m==\u001b[0m \u001b[0;36m0\u001b[0m\u001b[0;34m,\u001b[0m \u001b[0mn\u001b[0m\u001b[0;34m)\u001b[0m\u001b[0;34m\u001b[0m\u001b[0;34m\u001b[0m\u001b[0m\n\u001b[0;32m----> 5\u001b[0;31m \u001b[0mprint\u001b[0m\u001b[0;34m(\u001b[0m\u001b[0mlist\u001b[0m\u001b[0;34m(\u001b[0m\u001b[0meven\u001b[0m\u001b[0;34m)\u001b[0m\u001b[0;34m)\u001b[0m\u001b[0;34m\u001b[0m\u001b[0;34m\u001b[0m\u001b[0m\n\u001b[0m",
            "\u001b[0;31mTypeError\u001b[0m: 'list' object is not callable"
          ]
        }
      ]
    },
    {
      "cell_type": "code",
      "source": [
        "# usecase5: Using with map()\n",
        "a = [1, 2, 3, 4]\n",
        "b = map(lambda x: x * 2, a)\n",
        "print(list(b))"
      ],
      "metadata": {
        "colab": {
          "base_uri": "https://localhost:8080/",
          "height": 176
        },
        "id": "gqCq6AQUNQZJ",
        "outputId": "9a4249b3-455c-4542-cc47-d6b1d87f845d"
      },
      "execution_count": 56,
      "outputs": [
        {
          "output_type": "error",
          "ename": "TypeError",
          "evalue": "'list' object is not callable",
          "traceback": [
            "\u001b[0;31m---------------------------------------------------------------------------\u001b[0m",
            "\u001b[0;31mTypeError\u001b[0m                                 Traceback (most recent call last)",
            "\u001b[0;32m/tmp/ipython-input-3188436258.py\u001b[0m in \u001b[0;36m<cell line: 0>\u001b[0;34m()\u001b[0m\n\u001b[1;32m      2\u001b[0m \u001b[0ma\u001b[0m \u001b[0;34m=\u001b[0m \u001b[0;34m[\u001b[0m\u001b[0;36m1\u001b[0m\u001b[0;34m,\u001b[0m \u001b[0;36m2\u001b[0m\u001b[0;34m,\u001b[0m \u001b[0;36m3\u001b[0m\u001b[0;34m,\u001b[0m \u001b[0;36m4\u001b[0m\u001b[0;34m]\u001b[0m\u001b[0;34m\u001b[0m\u001b[0;34m\u001b[0m\u001b[0m\n\u001b[1;32m      3\u001b[0m \u001b[0mb\u001b[0m \u001b[0;34m=\u001b[0m \u001b[0mmap\u001b[0m\u001b[0;34m(\u001b[0m\u001b[0;32mlambda\u001b[0m \u001b[0mx\u001b[0m\u001b[0;34m:\u001b[0m \u001b[0mx\u001b[0m \u001b[0;34m*\u001b[0m \u001b[0;36m2\u001b[0m\u001b[0;34m,\u001b[0m \u001b[0ma\u001b[0m\u001b[0;34m)\u001b[0m\u001b[0;34m\u001b[0m\u001b[0;34m\u001b[0m\u001b[0m\n\u001b[0;32m----> 4\u001b[0;31m \u001b[0mprint\u001b[0m\u001b[0;34m(\u001b[0m\u001b[0mlist\u001b[0m\u001b[0;34m(\u001b[0m\u001b[0mb\u001b[0m\u001b[0;34m)\u001b[0m\u001b[0;34m)\u001b[0m\u001b[0;34m\u001b[0m\u001b[0;34m\u001b[0m\u001b[0m\n\u001b[0m",
            "\u001b[0;31mTypeError\u001b[0m: 'list' object is not callable"
          ]
        }
      ]
    },
    {
      "cell_type": "code",
      "source": [
        "# usecase6: Using with reduce()\n",
        "from functools import reduce\n",
        "a = [1, 2, 3, 4]\n",
        "b = reduce(lambda x, y: x * y, a)\n",
        "print(b)"
      ],
      "metadata": {
        "colab": {
          "base_uri": "https://localhost:8080/"
        },
        "id": "pbBJvmGKOn7F",
        "outputId": "a10e08d6-d14b-4714-ff74-5c17b8da4a68"
      },
      "execution_count": 57,
      "outputs": [
        {
          "output_type": "stream",
          "name": "stdout",
          "text": [
            "24\n"
          ]
        }
      ]
    },
    {
      "cell_type": "code",
      "source": [
        "#difference between lambda and def keyword\n",
        "\n",
        "# Using lambda\n",
        "sq = lambda x: x ** 2\n",
        "print(sq(3))\n",
        "\n",
        "# Using def\n",
        "def sqdef(x):\n",
        "    return x ** 2\n",
        "print(sqdef(3))"
      ],
      "metadata": {
        "colab": {
          "base_uri": "https://localhost:8080/"
        },
        "id": "dR3bWJKzOvpR",
        "outputId": "e72ce82f-b6c6-4978-d7c1-43f5250e35c4"
      },
      "execution_count": 58,
      "outputs": [
        {
          "output_type": "stream",
          "name": "stdout",
          "text": [
            "9\n",
            "9\n"
          ]
        }
      ]
    }
  ]
}